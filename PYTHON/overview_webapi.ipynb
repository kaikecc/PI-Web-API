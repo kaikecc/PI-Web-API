{
 "cells": [
  {
   "cell_type": "markdown",
   "metadata": {},
   "source": [
    "Autor: Kaike Castro Carvalho\n",
    "\n",
    "Date: 25-May-2024"
   ]
  },
  {
   "cell_type": "markdown",
   "metadata": {},
   "source": [
    "# Import Libraries"
   ]
  },
  {
   "cell_type": "code",
   "execution_count": 1,
   "metadata": {},
   "outputs": [],
   "source": [
    "import requests\n",
    "from requests.auth import HTTPBasicAuth\n",
    "import json\n",
    "from urllib.parse import urlparse"
   ]
  },
  {
   "cell_type": "markdown",
   "metadata": {},
   "source": [
    "## Base Code"
   ]
  },
  {
   "cell_type": "code",
   "execution_count": null,
   "metadata": {},
   "outputs": [],
   "source": [
    "class PIWebAPI:\n",
    "    def __init__(self, url_endpoint, username, password):\n",
    "        self.url_endpoint = url_endpoint\n",
    "        self.username = username\n",
    "        self.password = password\n",
    "\n",
    "    def get_PiWebApi(self, custom_url=None):\n",
    "            \n",
    "        response_default = {\"Links\": {}, \"Items\": []}\n",
    "        if not custom_url:\n",
    "            print(\"No URL provided for the GET PI Web API data retrieval.\")\n",
    "            return None\n",
    "        \n",
    "        parsed_url = urlparse(f\"{self.url_endpoint}/{custom_url}\")\n",
    "        if not all([parsed_url.scheme, parsed_url.netloc]):\n",
    "            print(f\"Invalid URL provided: {custom_url}\")\n",
    "            return None\n",
    "        \n",
    "        try:\n",
    "            response = requests.get(f\"{self.url_endpoint}{custom_url}\", auth=HTTPBasicAuth(self.username, self.password), verify=False)\n",
    "\n",
    "            if response.status_code == 200:                \n",
    "                return response.json()\n",
    "            elif response.status_code == 204:\n",
    "                print(\"204: Successful request but no content returned from the GET PI Web API.\") \n",
    "                return response_default\n",
    "            elif response.status_code == 400:\n",
    "                print(\"400 Error: Invalid encoded string: length cannot be 1 mod 4 in the GET PI Web API.\")                \n",
    "                return response_default\n",
    "            elif response.status_code == 401:\n",
    "                print(\"401 Error: Authorization has been denied for this request in the GET PI Web API.\")                \n",
    "                return response_default\n",
    "            elif response.status_code == 404:\n",
    "                print(\"404 Error: The requested resource was not found in the GET PI Web API.\")                \n",
    "                return response_default\n",
    "            elif response.status_code == 503:\n",
    "                print(\"503 Error: The requested resource is currently unavailable in the GET PI Web API.\")                \n",
    "                return response_default\n",
    "            else:\n",
    "                print(f\"{response.status_code} Error: {response.text} in request GET PI Web API \")                \n",
    "                return response_default\n",
    "        except requests.exceptions.RequestException as e:\n",
    "            print(f\"Connection Error while accessing the function GET PI Web API: {e}\")\n",
    "            return response_default  "
   ]
  },
  {
   "cell_type": "code",
   "execution_count": null,
   "metadata": {},
   "outputs": [],
   "source": [
    "api = PIWebAPI(\"https://servername/piwebapi/\", \"<username>\", \"<password>\")"
   ]
  },
  {
   "cell_type": "markdown",
   "metadata": {},
   "source": [
    "# Endpoints Web API\n",
    "\n",
    "* Access the API endpoints to get the data you need to build your application."
   ]
  },
  {
   "cell_type": "markdown",
   "metadata": {},
   "source": [
    "This code is a simple example of how to access the list of asset servers.\n",
    "\n"
   ]
  },
  {
   "cell_type": "code",
   "execution_count": null,
   "metadata": {},
   "outputs": [],
   "source": [
    "# To get the list of servers, use the following URL:\n",
    "data = api.get_PiWebApi(f\"assetservers\")\n",
    "print(data)"
   ]
  },
  {
   "cell_type": "markdown",
   "metadata": {},
   "source": [
    "This code is a simple example of how to access the list of databases.\n",
    "\n"
   ]
  },
  {
   "cell_type": "code",
   "execution_count": null,
   "metadata": {},
   "outputs": [],
   "source": [
    "webID_database = \"<F1DSUy1TdGF0ZXMgV2Vic2l0ZQ>\"\n",
    "\n",
    "# To get the list of databases, use the following URL:\n",
    "data = api.get_PiWebApi(f\"assetservers/{webID_database}/assetdatabases\")\n",
    "print(data)"
   ]
  },
  {
   "cell_type": "markdown",
   "metadata": {},
   "source": [
    "This code is a simple example of how to access the elements templtaes in a database."
   ]
  },
  {
   "cell_type": "markdown",
   "metadata": {},
   "source": [
    "data = api.get_PiWebApi(f\"assetdatabases/{webID_database}/elementtemplates\")\n",
    "print(data)"
   ]
  },
  {
   "cell_type": "markdown",
   "metadata": {},
   "source": [
    "This code is a simple example of how to access the elements in a database."
   ]
  },
  {
   "cell_type": "code",
   "execution_count": null,
   "metadata": {},
   "outputs": [],
   "source": [
    "webID_element = \"<F1DSUy1TdGF0ZXMgV2Vic2l0ZS9FbGVtZW50cw>\"\n",
    "# To get the list of elements, use the following URL:\n",
    "data = api.get_PiWebApi(f\"elements/{webID_element}/elements\")\n",
    "print(data)"
   ]
  },
  {
   "cell_type": "markdown",
   "metadata": {},
   "source": [
    "This code is a simple example of how to user select fields in the elements in a database.\n",
    "\n",
    "* selectedFields\n",
    "\n",
    ">   List of fields to be returned in the response, separated by semicolons (;). If this parameter is not specified, all available fields will be returned. See Selected Fields for more information."
   ]
  },
  {
   "cell_type": "code",
   "execution_count": null,
   "metadata": {},
   "outputs": [],
   "source": [
    "# To get the list of elements, use the following URL:\n",
    "data = api.get_PiWebApi(f\"elements/{webID_element}/elements?selectedFields=Items.Name;Items.Description;Items.WebId;Items.BaseTemplate;Items.AllowElementToExtend;Items.NamingPattern;Items.CategoryNames;Items.Links.AttributeTemplates.Name\")\n",
    "print(data)"
   ]
  },
  {
   "cell_type": "markdown",
   "metadata": {},
   "source": [
    "Filtering the elements by name."
   ]
  },
  {
   "cell_type": "code",
   "execution_count": null,
   "metadata": {},
   "outputs": [],
   "source": [
    "element_name = \"*ElementName*\"\n",
    "# To get the list of elements, use the following URL:\n",
    "data = api.get_PiWebApi(f\"elements/{webID_element}/elements?nameFilter={element_name}\")\n",
    "print(data)"
   ]
  },
  {
   "cell_type": "markdown",
   "metadata": {},
   "source": [
    "Filtering the elements by category name"
   ]
  },
  {
   "cell_type": "code",
   "execution_count": null,
   "metadata": {},
   "outputs": [],
   "source": [
    "category_name = \"Equipment\"\n",
    "\n",
    "# To get the list of elements, use the following URL:\n",
    "data = api.get_PiWebApi(f\"elements/{webID_element}/elements?categoryName={category_name}\")\n",
    "print(data)"
   ]
  },
  {
   "cell_type": "markdown",
   "metadata": {},
   "source": [
    "This code is a simple example of how to access the attributes in a element.\n"
   ]
  },
  {
   "cell_type": "code",
   "execution_count": null,
   "metadata": {},
   "outputs": [],
   "source": [
    "webID_attribute = \"<F1DSUy1TdGF0ZXMgV2Vic2l0ZS9FbGVtZW50cw>\"\n",
    "# To get the list of elements, use the following URL:\n",
    "data = api.get_PiWebApi(f\"elements/{webID_attribute}/attributes\")\n",
    "print(data)"
   ]
  },
  {
   "cell_type": "markdown",
   "metadata": {},
   "source": [
    "This code is a simple example of how to access the analyses in a element."
   ]
  },
  {
   "cell_type": "code",
   "execution_count": null,
   "metadata": {},
   "outputs": [],
   "source": [
    "webID_element = \"<F1DSUy1TdGF0ZXMgV2Vic2l0ZS9FbGVtZW50cw>\"\n",
    "# To get the list of elements, use the following URL:\n",
    "data = api.get_PiWebApi(f\"elements/{webID_element}/analyses\")\n",
    "print(data)"
   ]
  }
 ],
 "metadata": {
  "kernelspec": {
   "display_name": "Python 3",
   "language": "python",
   "name": "python3"
  },
  "language_info": {
   "codemirror_mode": {
    "name": "ipython",
    "version": 3
   },
   "file_extension": ".py",
   "mimetype": "text/x-python",
   "name": "python",
   "nbconvert_exporter": "python",
   "pygments_lexer": "ipython3",
   "version": "3.11.4"
  }
 },
 "nbformat": 4,
 "nbformat_minor": 2
}
